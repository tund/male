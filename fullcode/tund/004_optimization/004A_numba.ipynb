{
 "cells": [
  {
   "cell_type": "code",
   "execution_count": 1,
   "id": "annoying-advance",
   "metadata": {},
   "outputs": [],
   "source": [
    "import os\n",
    "os.environ['CUDA_VISIBLE_DEVICES'] = '-1'\n",
    "\n",
    "import math"
   ]
  },
  {
   "cell_type": "code",
   "execution_count": 2,
   "id": "oriented-breathing",
   "metadata": {},
   "outputs": [],
   "source": [
    "def is_prime(num):\n",
    "    if num == 2:\n",
    "        return True;\n",
    "    if num <= 1 or not num % 2:\n",
    "        return False\n",
    "    for div in range(3, int(math.sqrt(num) + 1), 2):\n",
    "        if not num % div:\n",
    "            return False\n",
    "    return True\n",
    "\n",
    "\n",
    "def run_program(N):\n",
    "    for i in range(N):\n",
    "        is_prime(i)"
   ]
  },
  {
   "cell_type": "code",
   "execution_count": 3,
   "id": "spare-housing",
   "metadata": {},
   "outputs": [
    {
     "name": "stdout",
     "output_type": "stream",
     "text": [
      "CPU times: user 46.2 s, sys: 0 ns, total: 46.2 s\n",
      "Wall time: 46.2 s\n"
     ]
    }
   ],
   "source": [
    "%%time\n",
    "N = 10000000\n",
    "run_program(N)"
   ]
  },
  {
   "cell_type": "code",
   "execution_count": 4,
   "id": "collectible-orientation",
   "metadata": {},
   "outputs": [],
   "source": [
    "from numba import njit, prange\n",
    "\n",
    "\n",
    "@njit(fastmath=True, cache=True)\n",
    "def is_prime_2(num):\n",
    "    if num == 2:\n",
    "        return True;\n",
    "    if num <= 1 or not num % 2:\n",
    "        return False\n",
    "    for div in range(3, int(math.sqrt(num) + 1), 2):\n",
    "        if not num % div:\n",
    "            return False\n",
    "    return True\n",
    "\n",
    "\n",
    "@njit(fastmath=True, cache=True, parallel=True)\n",
    "def run_program_2(N):\n",
    "    for i in prange(N):\n",
    "        is_prime_2(i)"
   ]
  },
  {
   "cell_type": "code",
   "execution_count": 5,
   "id": "unique-italian",
   "metadata": {},
   "outputs": [
    {
     "name": "stdout",
     "output_type": "stream",
     "text": [
      "64.9 ms ± 2.95 ms per loop (mean ± std. dev. of 7 runs, 1 loop each)\n"
     ]
    }
   ],
   "source": [
    "%%timeit\n",
    "N = 10000000\n",
    "run_program_2(N)"
   ]
  },
  {
   "cell_type": "markdown",
   "id": "sustained-roads",
   "metadata": {},
   "source": [
    "---"
   ]
  },
  {
   "cell_type": "markdown",
   "id": "dressed-connection",
   "metadata": {},
   "source": [
    "### No cache"
   ]
  },
  {
   "cell_type": "code",
   "execution_count": 8,
   "id": "separated-riverside",
   "metadata": {},
   "outputs": [],
   "source": [
    "from numba import njit, prange\n",
    "\n",
    "\n",
    "@njit(fastmath=True, cache=False)\n",
    "def is_prime_3(num):\n",
    "    if num == 2:\n",
    "        return True;\n",
    "    if num <= 1 or not num % 2:\n",
    "        return False\n",
    "    for div in range(3, int(math.sqrt(num) + 1), 2):\n",
    "        if not num % div:\n",
    "            return False\n",
    "    return True\n",
    "\n",
    "\n",
    "@njit(fastmath=True, cache=False, parallel=True)\n",
    "def run_program_3(N):\n",
    "    for i in prange(N):\n",
    "        is_prime_3(i)"
   ]
  },
  {
   "cell_type": "code",
   "execution_count": 9,
   "id": "northern-duncan",
   "metadata": {},
   "outputs": [
    {
     "name": "stdout",
     "output_type": "stream",
     "text": [
      "60 ms ± 585 µs per loop (mean ± std. dev. of 7 runs, 1 loop each)\n"
     ]
    }
   ],
   "source": [
    "%%timeit\n",
    "N = 10000000\n",
    "run_program_3(N)"
   ]
  },
  {
   "cell_type": "markdown",
   "id": "binding-banking",
   "metadata": {},
   "source": [
    "==> Same result."
   ]
  }
 ],
 "metadata": {
  "kernelspec": {
   "display_name": "Python 3",
   "language": "python",
   "name": "python3"
  },
  "language_info": {
   "codemirror_mode": {
    "name": "ipython",
    "version": 3
   },
   "file_extension": ".py",
   "mimetype": "text/x-python",
   "name": "python",
   "nbconvert_exporter": "python",
   "pygments_lexer": "ipython3",
   "version": "3.6.12"
  }
 },
 "nbformat": 4,
 "nbformat_minor": 5
}
