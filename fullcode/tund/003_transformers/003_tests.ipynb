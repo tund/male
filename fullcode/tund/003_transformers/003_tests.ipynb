{
 "cells": [
  {
   "cell_type": "code",
   "execution_count": null,
   "metadata": {},
   "outputs": [],
   "source": [
    "import numpy as np\n",
    "import tensorflow as tf"
   ]
  },
  {
   "cell_type": "markdown",
   "metadata": {},
   "source": [
    "### Sinusoid positional encoding"
   ]
  },
  {
   "cell_type": "code",
   "execution_count": null,
   "metadata": {},
   "outputs": [],
   "source": [
    "d_model = 512\n",
    "batch = 2\n",
    "seq_len = 3"
   ]
  },
  {
   "cell_type": "code",
   "execution_count": null,
   "metadata": {},
   "outputs": [],
   "source": [
    "pos_ind = tf.tile(tf.expand_dims(tf.range(seq_len), 0), [batch, 1])"
   ]
  },
  {
   "cell_type": "code",
   "execution_count": null,
   "metadata": {},
   "outputs": [],
   "source": [
    "pos_ind"
   ]
  },
  {
   "cell_type": "code",
   "execution_count": null,
   "metadata": {},
   "outputs": [],
   "source": [
    "# Compute the arguments for sin and cos: pos / 10000^{2i/d_model})\n",
    "# Each dimension is sin/cos wave, as a function of the position.\n",
    "pos_enc = np.array([\n",
    "    [pos / np.power(10000., 2. * (i // 2) / d_model) for i in range(d_model)]\n",
    "    for pos in range(seq_len)\n",
    "])  # [seq_len, d_model]\n",
    "\n",
    "# Apply the cosine to even columns and sin to odds.\n",
    "pos_enc[:, 0::2] = np.sin(pos_enc[:, 0::2])  # dim 2i\n",
    "pos_enc[:, 1::2] = np.cos(pos_enc[:, 1::2])  # dim 2i+1"
   ]
  },
  {
   "cell_type": "code",
   "execution_count": null,
   "metadata": {},
   "outputs": [],
   "source": [
    "print(pos_enc.shape)\n",
    "pos_enc"
   ]
  },
  {
   "cell_type": "code",
   "execution_count": null,
   "metadata": {},
   "outputs": [],
   "source": [
    "# Convert to a tensor\n",
    "lookup_table = tf.convert_to_tensor(pos_enc, dtype=tf.float32)  # [seq_len, d_model]\n",
    "if True:\n",
    "    lookup_table = tf.concat((tf.zeros(shape=[1, d_model]), lookup_table[1:, :]), 0)\n",
    "\n",
    "out = tf.nn.embedding_lookup(lookup_table, pos_ind)  # [batch, seq_len, d_model]"
   ]
  },
  {
   "cell_type": "code",
   "execution_count": null,
   "metadata": {},
   "outputs": [],
   "source": [
    "lookup_table"
   ]
  },
  {
   "cell_type": "code",
   "execution_count": null,
   "metadata": {},
   "outputs": [],
   "source": [
    "out"
   ]
  }
 ],
 "metadata": {
  "kernelspec": {
   "display_name": "Python 3",
   "language": "python",
   "name": "python3"
  },
  "language_info": {
   "codemirror_mode": {
    "name": "ipython",
    "version": 3
   },
   "file_extension": ".py",
   "mimetype": "text/x-python",
   "name": "python",
   "nbconvert_exporter": "python",
   "pygments_lexer": "ipython3",
   "version": "3.8.5"
  }
 },
 "nbformat": 4,
 "nbformat_minor": 4
}
